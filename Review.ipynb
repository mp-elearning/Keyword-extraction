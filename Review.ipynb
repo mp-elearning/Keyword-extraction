{
 "cells": [
  {
   "cell_type": "code",
   "execution_count": 55,
   "metadata": {},
   "outputs": [
    {
     "data": {
      "text/html": [
       "<div>\n",
       "<style scoped>\n",
       "    .dataframe tbody tr th:only-of-type {\n",
       "        vertical-align: middle;\n",
       "    }\n",
       "\n",
       "    .dataframe tbody tr th {\n",
       "        vertical-align: top;\n",
       "    }\n",
       "\n",
       "    .dataframe thead th {\n",
       "        text-align: right;\n",
       "    }\n",
       "</style>\n",
       "<table border=\"1\" class=\"dataframe\">\n",
       "  <thead>\n",
       "    <tr style=\"text-align: right;\">\n",
       "      <th></th>\n",
       "      <th>Author name</th>\n",
       "      <th>Youtube link</th>\n",
       "      <th>Transcript</th>\n",
       "    </tr>\n",
       "  </thead>\n",
       "  <tbody>\n",
       "    <tr>\n",
       "      <th>0</th>\n",
       "      <td>Telusko</td>\n",
       "      <td>https://www.youtube.com/watch?v=hEgO047GxaQ&amp;li...</td>\n",
       "      <td>do you want to learn programming in a fun way ...</td>\n",
       "    </tr>\n",
       "    <tr>\n",
       "      <th>1</th>\n",
       "      <td>Telusko</td>\n",
       "      <td>https://www.youtube.com/watch?v=hEgO047GxaQ&amp;li...</td>\n",
       "      <td>think Python was there you know it was there ...</td>\n",
       "    </tr>\n",
       "    <tr>\n",
       "      <th>2</th>\n",
       "      <td>Telusko</td>\n",
       "      <td>https://www.youtube.com/watch?v=mbryl4MZJms&amp;li...</td>\n",
       "      <td>subscribe the channel and place on the bell ic...</td>\n",
       "    </tr>\n",
       "    <tr>\n",
       "      <th>3</th>\n",
       "      <td>Telusko</td>\n",
       "      <td>https://www.youtube.com/watch?v=DWgzHbglNIo&amp;li...</td>\n",
       "      <td>welcome back aliens my name is davina Eddie an...</td>\n",
       "    </tr>\n",
       "    <tr>\n",
       "      <th>4</th>\n",
       "      <td>Telusko</td>\n",
       "      <td>https://www.youtube.com/watch?v=TqPzwenhMj0&amp;li...</td>\n",
       "      <td>welcome back aliens my name is Devin 20 and le...</td>\n",
       "    </tr>\n",
       "  </tbody>\n",
       "</table>\n",
       "</div>"
      ],
      "text/plain": [
       "  Author name                                       Youtube link  \\\n",
       "0     Telusko  https://www.youtube.com/watch?v=hEgO047GxaQ&li...   \n",
       "1     Telusko  https://www.youtube.com/watch?v=hEgO047GxaQ&li...   \n",
       "2     Telusko  https://www.youtube.com/watch?v=mbryl4MZJms&li...   \n",
       "3     Telusko  https://www.youtube.com/watch?v=DWgzHbglNIo&li...   \n",
       "4     Telusko  https://www.youtube.com/watch?v=TqPzwenhMj0&li...   \n",
       "\n",
       "                                          Transcript  \n",
       "0  do you want to learn programming in a fun way ...  \n",
       "1   think Python was there you know it was there ...  \n",
       "2  subscribe the channel and place on the bell ic...  \n",
       "3  welcome back aliens my name is davina Eddie an...  \n",
       "4  welcome back aliens my name is Devin 20 and le...  "
      ]
     },
     "execution_count": 55,
     "metadata": {},
     "output_type": "execute_result"
    }
   ],
   "source": [
    "import spacy\n",
    "import en_core_web_sm\n",
    "nlp = en_core_web_sm.load()\n",
    "import pandas as pd\n",
    "import os\n",
    "#DATA_DIR='In an attempt to build an AI-ready workforce, Microsoft announced Intelligent Cloud Hub which has been launched to empower the next generation of students with AI-ready skills. Envisioned as a three-year collaborative program, Intelligent Cloud Hub will support around 100 institutions with AI infrastructure, course content and curriculum, developer support, development tools and give students access to cloud and AI services. As part of the program, the Redmond giant which wants to expand its reach and is planning to build a strong developer ecosystem in India with the program will set up the core AI infrastructure and IoT Hub for the selected campuses. The company will provide AI development tools and Azure AI services such as Microsoft Cognitive Services, Bot Services and Azure Machine Learning.According to Manish Prakash, Country General Manager-PS, Health and Education, Microsoft India, said, \"With AI being the defining technology of our time, it is transforming lives and industry and the jobs of tomorrow will require a different skillset. This will require more collaborations and training and working with AI. That’s why it has become more critical than ever for educational institutions to integrate new cloud and AI technologies. The program is an attempt to ramp up the institutional set-up and build capabilities among the educators to educate the workforce of tomorrow.\" The program aims to build up the cognitive skills and in-depth understanding of developing intelligent cloud connected solutions for applications across industry. Earlier in April this year, the company announced Microsoft Professional Program In AI as a learning track open to the public. The program was developed to provide job ready skills to programmers who wanted to hone their skills in AI and data science with a series of online courses which featured hands-on labs and expert instructors as well. This program also included developer-focused AI school that provided a bunch of assets to help build AI skills.'\n",
    "#DATA_DIR=\"C:/Users/Madhur Kabra/Downloads/youtube_data - Sheet1.csv\"\n",
    "df.head()\n",
    "\n"
   ]
  },
  {
   "cell_type": "code",
   "execution_count": 50,
   "metadata": {},
   "outputs": [],
   "source": [
    "l =[]\n",
    "df=pd.read_csv('C:/Users/Madhur Kabra/Downloads/youtube_data - Sheet1.csv')\n",
    "l = df['Transcript']"
   ]
  },
  {
   "cell_type": "code",
   "execution_count": 51,
   "metadata": {},
   "outputs": [
    {
     "data": {
      "text/plain": [
       "0     do you want to learn programming in a\\r\\nfun w...\n",
       "1      think\\r\\nPython was there you know it was the...\n",
       "2     subscribe the channel and place on the\\r\\nbell...\n",
       "3     welcome back aliens my name is davina\\r\\nEddie...\n",
       "4     welcome back aliens my name is Devin 20\\r\\nand...\n",
       "5     welcome back aliens my name is Ivan\\r\\njetty a...\n",
       "6     welcome back aliens my name is 720 and\\r\\nlet'...\n",
       "7     welcome back aliens my name is 720 and\\r\\nlist...\n",
       "8     welcome back aliens my name is 720 and\\r\\nlet'...\n",
       "9     welcome back aliens my name is 720 and\\r\\nlet'...\n",
       "10    welcome to the class where I vendor bah\\r\\nbla...\n",
       "11    so we have seen that a problem or a DFA\\r\\nwhe...\n",
       "12    so in the previous problem we have seen\\r\\nwe ...\n",
       "13    now let us exchange the previous problem\\r\\nto...\n",
       "14    now we shall again see one more problem\\r\\nwhi...\n",
       "Name: Transcript, dtype: object"
      ]
     },
     "execution_count": 51,
     "metadata": {},
     "output_type": "execute_result"
    }
   ],
   "source": [
    "l"
   ]
  },
  {
   "cell_type": "code",
   "execution_count": 56,
   "metadata": {},
   "outputs": [],
   "source": [
    "for i in range(0,len(l)):\n",
    "    gg = str(l[i])\n",
    "    \n",
    "    l[i] = gg.replace('\\r\\n',' ')"
   ]
  },
  {
   "cell_type": "code",
   "execution_count": 57,
   "metadata": {},
   "outputs": [
    {
     "data": {
      "text/plain": [
       "\"welcome back aliens my name is 720 and let's cut it up this series on Python and in this video we're going to talk about variable what hold on we have talked about variables right we know how to get variables how to assign values and you can change the value as well then why I get a next video now in this video we'll pop it in a different way you know we'll talk about more about memory consumption and what happens when you create multiple variables so let's get started you know let's in the flow itself we'll talk about what concept of discuss so we have our addicted ready and let's get started so let's start with some questions you know so I would ask your question you have to answer maybe in your mind or in the comment section your choice so now we'll do here is let me create a small variable I will say the variable name is num and the value for num is equal to 5 now what do you think what is happening behind the scene I can just imagine so there will be so in your in your memory or in your internal memory of your system you might be getting a box there with the name num and it will be having its own address right and the in that box will be having a value which is 5 so we kind of box in that we have a value 5 and it will be having a name and the address ok that's good so name is dumb and addresses something let's see what is the address how do you know what is the address now of course everybody will have it will be having some address right if you want to get the address what you will do is you will use a function name called as ID and then in the bracket you have to pass the variable name which is num so in this case if I pass num you can see we got the address out that's great so we call this is our address now this is possible with any type of variable ok you can go with string as well let's try so I will use our name equal to so let's say my name I would say Naveen and again the same thing I will use an ID and in this I will pass name and you can see we got the address now for now we have a different address for ID we have a different time for name we have a different address that's great ok now think about this what if I create one more video but let's go with a different variable now I will say variable E and the value for a is let's say 10 ok so we have 10 and then we have value very variable B and B is equal to a now can I assign a to b yes the answer is yes you can assign the value of a to P now what do you think what is happening behind the scenes so how many variables we have how many boxes we have think about this maybe we should be having two boxes right one for a and one for B right so two boxes each box will have a value which is ten and they might be having different address right of course if you have a different box you will be having a different address let's verify so first I will verify the values of it so I will type a we got ten I will type B record 10 so both are the same value okay I will try to fetch the address of a okay we called the address doesn't matter doesn't matter what's the address here some Vietnam BIR and I will try to add get the address of B oh that's weird we got the same address so in Python what happens is whenever you create multiple variables and in case if they have the same data they both will point to the same box they will not be getting multiple or the multiple boxes for for each variable and that's where python is more memory efficient right because you're not getting multiple data here that's great so what what happens when I change the let's say let's see the ID of ten okay we can also do that because everything which you are using here it is also called as object so in this case we have 10 which is an object name is an object five is an object I know you're thinking about objects now don't worry we'll talk about objects later in detail you can tell that point you can imagine object is a box okay so it is something where you can hold your data it sound like somewhat like variable but we'll discuss that indeed in detail later at this point everything is an object right there is an object here so every object will have an ID here so I will say enter and you can see we got the same ID so the actress is not based on the variable name it is based on the box itself so moment you say I want to use a value it belongs to a box and the address of that box is here now in future if you kid one more video but call us okay and if you assign the value for K as 10 now if I fetch the ID for K so we are not actually talking about K here we're talking about 10 because indirectly your K is referring to 10 right that's important so this variables are also kind of tags because we are tagging them so then is a value and you're tagging a B K so everything is tagging the same same object okay this is this is awesome so you can see we got the same ID now if I change the value for a let's try so I will say a is equal to let's say nine I want to change the value for a now what do you think will it affect the address of a of course right because now you have a different box different value different box and different box mean different address let's try and that's why we got a different value for a that works what so if I change the value of a and if you see this statement here this is simply B is equal to L right so if a changes will it affect B let's try okay so if I say I D of B but no so idea of idea of B is still the same old value because Abby is still referring to 10 right so we got two different objects or two different boxes and each box are different address so here K and B is pointing to ten and you're a is pointing to nine now maybe in future you will say K is equal to a now so of course the tag of Kaiba changed to the value 9 right let's verify so I will say int of K and you can see now just referring to 9 that's awesome okay so now we got two boxes right now what if you so V so you can see we have B which is referring to 10 as of now and K and elfing to 9 what if in future even B is referring to a new value let's say 8 so in total we have 3 boxes now so it is referring a and K they are referring to 9 and we have been referring to 8 and no is referring to 10 now what will happen to 10 now 10 is dead right then is there in the memory and no one is using it and that's where India in Python we have a concept of garbage collection I can we'll talk about that later how it works so we'll talk about a PBM weight later so we have a different concept you know we have PA VM or chase garbage collection so we talked about those things in detail later but as of now remember this thing whenever you have a data in your memory which will not be used or which is not tagged by any variable it will be garbage collected later okay but did that point him if you have any reference it is dead in the memory okay it will be dead for for you for your use now how about creating a constant example let's say you know we have this concept of constants what are constants now so when you say variable it means you can change the value right now but when it comes to constant that means you cannot change the value but something like immutable stuff but can you make a variable constant and C programming is the only place where you can make a variable constant right but in Python you cannot do that yes you can show your intention by saying hey this is the constant example normally when we say constant we use a different format of names example capital letters so I will say PI value now if you remember in if you in maths we use a concept of pi of like 3.14 yeah now this is a constant value right no one can change it it will never be changed so in this case you will be using this as a constant of course you cannot stop anyone by changing this value example I can change this value later so if I type P I you can see we got a 3.14 but what if I change the value yes I can change the value I can say to the point 1 5 which will be a crime in this case but you know we can change the value but you can show your intentions by saying hey this is the PI this is you can see capital it is there so don't change the value this so the intention here is to make it constant don't change it so yes unfortunately in Python you cannot make it constant but but you can show your intentions now with variables we have one more concept which is called as type of the variable example in this case if I say the type now how do we know the type so we have this methodist type and you can pass by and you can see the type of pi is float so any one whenever you want to know the type of variable you just type type and in fact you can mention the variable name it will give you the type of it you can do the same thing for a BK and everything so with a very my which we are using here those variables has a type which is in many types right but can I create my own types and the answer is yes you can create but we'll be doing that later you know it's some may be in some other tutorial but we can use inbuilt types example int float those are in place types but how many times we have normally these types are called as data type so we have some inbuilt data types and we are going to see that in the next video so in the next video we'll talk about different intellects and how to use it so I hope you are enjoying this series let me know in the comments section and that's it bye bye you\""
      ]
     },
     "execution_count": 57,
     "metadata": {},
     "output_type": "execute_result"
    }
   ],
   "source": [
    "l[8]"
   ]
  },
  {
   "cell_type": "code",
   "execution_count": 46,
   "metadata": {},
   "outputs": [],
   "source": [
    "stop_words=[\"i\", \"me\", \"my\", \"myself\", \"we\", \"our\", \"ours\", \"ourselves\", \"you\", \"your\", \"yours\", \"yourself\", \n",
    "            \"yourselves\", \"he\", \"him\", \"his\", \"himself\", \"she\", \"her\", \"hers\", \"herself\", \"it\", \"its\", \"itself\", \n",
    "            \"they\", \"them\", \"their\", \"theirs\", \"themselves\", \"what\", \"which\", \"who\", \"whom\", \"this\", \"that\", \"these\", \n",
    "            \"those\", \"am\", \"is\", \"are\", \"was\", \"were\", \"be\", \"been\", \"being\", \"have\", \"has\", \"had\", \"having\", \"do\", \n",
    "            \"does\", \"did\", \"doing\", \"a\", \"an\", \"the\", \"and\", \"but\", \"if\", \"or\", \"because\", \"as\", \"until\", \"while\", \n",
    "            \"of\", \"at\", \"by\", \"for\", \"with\", \"about\", \"against\", \"between\", \"into\", \"through\", \"during\", \"before\", \n",
    "            \"after\", \"above\", \"below\", \"to\", \"from\", \"up\", \"down\", \"in\", \"out\", \"on\", \"off\", \"over\", \"under\", \"again\", \n",
    "            \"further\", \"then\", \"once\", \"here\", \"there\", \"when\", \"where\", \"why\", \"how\", \"all\", \"any\", \"both\", \"each\", \n",
    "            \"few\", \"more\", \"most\", \"other\", \"some\", \"such\", \"no\", \"nor\", \"not\", \"only\", \"own\", \"same\", \"so\", \"than\",\n",
    "            \"too\", \"very\", \"s\", \"t\", \"can\", \"will\", \"just\", \"don\", \"should\", \"now\"]\n"
   ]
  },
  {
   "cell_type": "code",
   "execution_count": 47,
   "metadata": {},
   "outputs": [],
   "source": [
    "#nlp=spacy.load(\"en_core_web_lg\") \n"
   ]
  },
  {
   "cell_type": "code",
   "execution_count": 48,
   "metadata": {},
   "outputs": [],
   "source": [
    "def get_aspects(x):\n",
    "    doc=nlp(x) ## Tokenize and extract grammatical components\n",
    "    doc=[i.text for i in doc if i.text not in stop_words and i.pos_==\"NOUN\"] ## Remove common words and retain only nouns\n",
    "    doc=list(map(lambda i: i.lower(),doc)) ## Normalize text to lower case\n",
    "    doc=pd.Series(doc)\n",
    "    doc=doc.value_counts().head().index.tolist() ## Get 5 most frequent nouns\n",
    "    return doc\n"
   ]
  },
  {
   "cell_type": "code",
   "execution_count": 58,
   "metadata": {},
   "outputs": [
    {
     "data": {
      "text/plain": [
       "'Apply the function to get aspects from reviews'"
      ]
     },
     "execution_count": 58,
     "metadata": {},
     "output_type": "execute_result"
    }
   ],
   "source": [
    "l1 = []\n",
    "for i in range(0,len(l)):\n",
    "    l1.append(get_aspects(l[i]))\n",
    "    \n",
    "\n",
    "\"\"\"Apply the function to get aspects from reviews\"\"\"\n",
    "# print(get_aspects(l[0]))\n"
   ]
  },
  {
   "cell_type": "code",
   "execution_count": 59,
   "metadata": {},
   "outputs": [
    {
     "data": {
      "text/plain": [
       "[['series', 'language', 'nothing', 'help', 'everyone'],\n",
       " ['x', 'point', 'language', 'picture', 'market'],\n",
       " ['code', 'version', 'thing', 'notepad', 'project'],\n",
       " ['code', 'quotes', 'string', 'example', 'computer'],\n",
       " ['name', 'value', 'string', 'case', 'characters'],\n",
       " ['list', 'values', 'value', 'index', 'nums'],\n",
       " ['values', 'value', 'sequence', 'list', 'comma'],\n",
       " ['command', 'prompt', 'path', 'help', 'thing'],\n",
       " ['value', 'address', 'name', 'box', 'type'],\n",
       " ['type', 'value', 'range', 'number', 'example'],\n",
       " ['language', 'string', 'state', 'b', 'strings'],\n",
       " ['number', 'length', 'state', 'strings', 'string'],\n",
       " ['number', 'states', 'state', 'b', 'capital'],\n",
       " ['q', 'naught', 'remainder', 'number', 'states'],\n",
       " ['number', 'mod', 'counter', 'state', 'one']]"
      ]
     },
     "execution_count": 59,
     "metadata": {},
     "output_type": "execute_result"
    }
   ],
   "source": [
    "l1"
   ]
  }
 ],
 "metadata": {
  "kernelspec": {
   "display_name": "Python 3",
   "language": "python",
   "name": "python3"
  },
  "language_info": {
   "codemirror_mode": {
    "name": "ipython",
    "version": 3
   },
   "file_extension": ".py",
   "mimetype": "text/x-python",
   "name": "python",
   "nbconvert_exporter": "python",
   "pygments_lexer": "ipython3",
   "version": "3.5.3"
  }
 },
 "nbformat": 4,
 "nbformat_minor": 2
}
