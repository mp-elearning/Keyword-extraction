{
 "cells": [
  {
   "cell_type": "code",
   "execution_count": 2,
   "metadata": {},
   "outputs": [],
   "source": [
    "import spacy\n",
    "import en_core_web_sm\n",
    "nlp = en_core_web_sm.load()\n",
    "import pandas as pd\n",
    "import os\n",
    "#DATA_DIR='In an attempt to build an AI-ready workforce, Microsoft announced Intelligent Cloud Hub which has been launched to empower the next generation of students with AI-ready skills. Envisioned as a three-year collaborative program, Intelligent Cloud Hub will support around 100 institutions with AI infrastructure, course content and curriculum, developer support, development tools and give students access to cloud and AI services. As part of the program, the Redmond giant which wants to expand its reach and is planning to build a strong developer ecosystem in India with the program will set up the core AI infrastructure and IoT Hub for the selected campuses. The company will provide AI development tools and Azure AI services such as Microsoft Cognitive Services, Bot Services and Azure Machine Learning.According to Manish Prakash, Country General Manager-PS, Health and Education, Microsoft India, said, \"With AI being the defining technology of our time, it is transforming lives and industry and the jobs of tomorrow will require a different skillset. This will require more collaborations and training and working with AI. That’s why it has become more critical than ever for educational institutions to integrate new cloud and AI technologies. The program is an attempt to ramp up the institutional set-up and build capabilities among the educators to educate the workforce of tomorrow.\" The program aims to build up the cognitive skills and in-depth understanding of developing intelligent cloud connected solutions for applications across industry. Earlier in April this year, the company announced Microsoft Professional Program In AI as a learning track open to the public. The program was developed to provide job ready skills to programmers who wanted to hone their skills in AI and data science with a series of online courses which featured hands-on labs and expert instructors as well. This program also included developer-focused AI school that provided a bunch of assets to help build AI skills.'\n",
    "#DATA_DIR=\"C:/Users/Madhur Kabra/Downloads/youtube_data - Sheet1.csv\"\n",
    "\n"
   ]
  },
  {
   "cell_type": "code",
   "execution_count": 5,
   "metadata": {},
   "outputs": [
    {
     "data": {
      "text/html": [
       "<div>\n",
       "<style scoped>\n",
       "    .dataframe tbody tr th:only-of-type {\n",
       "        vertical-align: middle;\n",
       "    }\n",
       "\n",
       "    .dataframe tbody tr th {\n",
       "        vertical-align: top;\n",
       "    }\n",
       "\n",
       "    .dataframe thead th {\n",
       "        text-align: right;\n",
       "    }\n",
       "</style>\n",
       "<table border=\"1\" class=\"dataframe\">\n",
       "  <thead>\n",
       "    <tr style=\"text-align: right;\">\n",
       "      <th></th>\n",
       "      <th>Title</th>\n",
       "      <th>Author</th>\n",
       "      <th>link</th>\n",
       "      <th>Content</th>\n",
       "    </tr>\n",
       "  </thead>\n",
       "  <tbody>\n",
       "    <tr>\n",
       "      <th>0</th>\n",
       "      <td>Introduction to Blockchain technology</td>\n",
       "      <td>Achiv Chauhan</td>\n",
       "      <td>https://www.geeksforgeeks.org/introduction-to-...</td>\n",
       "      <td>Graduate Record Examinations (GRE) is the pres...</td>\n",
       "    </tr>\n",
       "    <tr>\n",
       "      <th>1</th>\n",
       "      <td>How Does the Blockchain Work?\\n</td>\n",
       "      <td>Anubhav Ujjawal</td>\n",
       "      <td>https://www.geeksforgeeks.org/how-does-the-blo...</td>\n",
       "      <td>A blockchain is nothing but a chain of blocks ...</td>\n",
       "    </tr>\n",
       "    <tr>\n",
       "      <th>2</th>\n",
       "      <td>Important Tips on How To Prepare for the GRE\\n</td>\n",
       "      <td>Ria Raval</td>\n",
       "      <td>https://www.geeksforgeeks.org/important-tips-o...</td>\n",
       "      <td>Graduate Record Examinations (GRE) is the pres...</td>\n",
       "    </tr>\n",
       "    <tr>\n",
       "      <th>3</th>\n",
       "      <td>Blockchain vs Bitcoin</td>\n",
       "      <td>Shruti Babu</td>\n",
       "      <td>https://www.geeksforgeeks.org/blockchain-vs-bi...</td>\n",
       "      <td>Bitcoin\\r\\nBitcoin is a crypto-currency (a kin...</td>\n",
       "    </tr>\n",
       "  </tbody>\n",
       "</table>\n",
       "</div>"
      ],
      "text/plain": [
       "                                            Title           Author  \\\n",
       "0           Introduction to Blockchain technology    Achiv Chauhan   \n",
       "1                 How Does the Blockchain Work?\\n  Anubhav Ujjawal   \n",
       "2  Important Tips on How To Prepare for the GRE\\n        Ria Raval   \n",
       "3                           Blockchain vs Bitcoin      Shruti Babu   \n",
       "\n",
       "                                                link  \\\n",
       "0  https://www.geeksforgeeks.org/introduction-to-...   \n",
       "1  https://www.geeksforgeeks.org/how-does-the-blo...   \n",
       "2  https://www.geeksforgeeks.org/important-tips-o...   \n",
       "3  https://www.geeksforgeeks.org/blockchain-vs-bi...   \n",
       "\n",
       "                                             Content  \n",
       "0  Graduate Record Examinations (GRE) is the pres...  \n",
       "1  A blockchain is nothing but a chain of blocks ...  \n",
       "2  Graduate Record Examinations (GRE) is the pres...  \n",
       "3  Bitcoin\\r\\nBitcoin is a crypto-currency (a kin...  "
      ]
     },
     "execution_count": 5,
     "metadata": {},
     "output_type": "execute_result"
    }
   ],
   "source": [
    "l =[]\n",
    "df=pd.read_csv('C:/Users/Madhur Kabra/Downloads/pk_data - Sheet1.csv')\n",
    "l = df['Content']\n",
    "df.head()"
   ]
  },
  {
   "cell_type": "code",
   "execution_count": 6,
   "metadata": {},
   "outputs": [
    {
     "data": {
      "text/plain": [
       "0    Graduate Record Examinations (GRE) is the pres...\n",
       "1    A blockchain is nothing but a chain of blocks ...\n",
       "2    Graduate Record Examinations (GRE) is the pres...\n",
       "3    Bitcoin\\r\\nBitcoin is a crypto-currency (a kin...\n",
       "Name: Content, dtype: object"
      ]
     },
     "execution_count": 6,
     "metadata": {},
     "output_type": "execute_result"
    }
   ],
   "source": [
    "l"
   ]
  },
  {
   "cell_type": "code",
   "execution_count": 9,
   "metadata": {},
   "outputs": [
    {
     "name": "stdout",
     "output_type": "stream",
     "text": [
      "Graduate Record Examinations (GRE) is the prestigious competitive exam taken for admission in graduate schools across the United States. Preparing for GRE is therefore important. Following are the tips, which must be kept in mind while preparing for GRE-\n",
      "\n",
      "Choose the study material wisely: \n",
      "It is important to carefully choose what you read. Good study material helps in strengthening the concepts. It is advised to follow any one GRE preparation book by some known publication house.\n",
      "\n",
      "\n",
      "Plan your study: \n",
      "Prepare well for the big day. Make your own time tables and follow them on strict basis. Allot proper time to reading new words and take timely tests.\n",
      "\n",
      "\n",
      "\n",
      "Focus on Quant: \n",
      "This is the area which will help in fetching marks. Quant section deals with simple maths problems, which help in increasing the overall score.\n",
      "\n",
      "\n",
      "Prepare for AWA: \n",
      "Follow a format and practice the writing contents for AWA using that format. It will help to put the ideas and thoughts in a systematic manner. Include real-life examples in the content as much as possible.\n",
      "\n",
      "\n",
      "Prepare Mentally: \n",
      "GRE is a time based test where specific time is alloted for each section. One minute break is alloted after each section is complete and a ten minute break is provided after the third section.\n",
      "\n",
      "\n",
      "Build Strong Vocabulary: \n",
      "Break the GRE words into prefix, root and suffix. Remember the most frequently used of them and the different words which can be made using them.\n",
      "\n",
      "\n",
      "Target Universities: \n",
      "Set the universities which you prefer to seek admission in. Be well aware of the scores they accept and aim at achieving that score.\n",
      "\n",
      "A blockchain is nothing but a chain of blocks that holds some serious properties which are utilised to enable decentralisation over the internet. Decentralisation means nobody has full authority or control over the network but rather the authority is distributed to the users who use it, in the case of blockchain, to the miners, the users.\n",
      "\n",
      "Blockchain provides immutability (it’s theoretically possible to mutate the contents but its practically impossible most of the times because of the computational power required, unless there is a bug, which happened to ethereum once and it resulted in a hard fork, thus creating two versions of it, and thus two currencies, ethereum and ethereum classic).\n",
      "Blockchain provides Transparency and trust. Blockchain is shared, and hence it allows the system to be transparent and everybody can verify the data present in it.\n",
      "Blockchain is secure. The famous and reliable blockchains use cryptographic functions approved and used by cryptographic experts all over the world. However, this may change as quantum computing advances.\n",
      "Blockchain has high availability, since the system is based on thousands of peers in a p2p network.\n",
      "In the most basic way, we can think of a blockchain as a linked list. Each of the next item in list is dependent on the previous item, except for the first block, also known as the genesis block, which is hardcoded into the blockchain.\n",
      "\n",
      "So suppose we have a chain of 10 blocks, so the 10th block depends on the 9th block, the 9th block on the 8th block and so on. Thus in a way, the 10th block depends on all the previous blocks and genesis block as well. Thus, if someone tries to change data on the 2nd block, lets say, then he will have to change data on all the later blocks as well, otherwise the blockchain will become invalid since the later blocks depend on data present in the 2nd block and the 2nd block has changed, but not the later blocks. Thus, as the blocks are added, immutability increases as we will see later, changing the block is an expensive operation.\n",
      "\n",
      "Also, to add/change a block in a blockchain, people have to show some proof. To avoid enormous amount of block to be added to the blockchain, a concept of difficulty is introduced. To add a block, We have to compute the hash of the block. The hash holds certain properties which makes computing the hash time consuming. For ex, someone might keep the difficulty to have a no. of zeroes present in the start of the hash. Thus, by randomly changing the nonce(arbitrary data present so that the properties of the hash hold) we have to find the hash of the block which holds the properties.\n",
      "\n",
      "The difficulty is adjusted after a certain amount of time to maintain an average constant rate of mining blocks.\n",
      "\n",
      "Mining a block –\n",
      "Mining a block refers to adding of the block present in the blockchain network. A miner selects a set of transactions from the pool of transactions and then mines the block, or one can say, computes the hash to add the block to the network. If two or more miners mine the same block at the same time, the block with more difficulty is selected. The others are known as stale blocks. Mining usually rewards miners with blockchain currency.\n",
      "Graduate Record Examinations (GRE) is the prestigious competitive exam taken for admission in graduate schools across the United States. Preparing for GRE is therefore important. Following are the tips, which must be kept in mind while preparing for GRE-  Choose the study material wisely:  It is important to carefully choose what you read. Good study material helps in strengthening the concepts. It is advised to follow any one GRE preparation book by some known publication house.   Plan your study:  Prepare well for the big day. Make your own time tables and follow them on strict basis. Allot proper time to reading new words and take timely tests.    Focus on Quant:  This is the area which will help in fetching marks. Quant section deals with simple maths problems, which help in increasing the overall score.   Prepare for AWA:  Follow a format and practice the writing contents for AWA using that format. It will help to put the ideas and thoughts in a systematic manner. Include real-life examples in the content as much as possible.   Prepare Mentally:  GRE is a time based test where specific time is alloted for each section. One minute break is alloted after each section is complete and a ten minute break is provided after the third section.   Build Strong Vocabulary:  Break the GRE words into prefix, root and suffix. Remember the most frequently used of them and the different words which can be made using them.   Target Universities:  Set the universities which you prefer to seek admission in. Be well aware of the scores they accept and aim at achieving that score. \n"
     ]
    },
    {
     "name": "stdout",
     "output_type": "stream",
     "text": [
      "Bitcoin Bitcoin is a crypto-currency (a kind of digital currency), mainly created to simplify a transaction without having third-party intermediaries. It all started when this mysterious man under the name of Satoshi Nakamoto (whose actual identity is still unknown) published a white-paper named Bitcoin: A Peer-to-Peer Electronic Cash System in 2009. A Satoshi is the smallest unit of Bitcoin. A unit of Satoshi is equal to 0.00000001 bitcoin!  The most interesting part here is that these Bitcoins are not issued by any centralised banks or authorities. They are ‘mined’ by a group of people called as ‘miners’. They solve complex mathematical problems/puzzles and are issued a certain number of Bitcoins in exchange.  Blockchain Blockchain is a data structure or ledger that stores information about any transactions that occurs(not just bitcoin). Anything that is stored once can’t be changed or modified. This feature of Blockchain makes it the most secure. It is decentralized and establishes a peer to peer network thus eliminating any middle-men.  Blockchain is made up of blocks that are stored in a chronological order. Each block has a capacity of around 500 transactions on an average. Thanks to the cryptography involved, these blocks are extremely secure. Each block will a unique ‘hash’ value attached to it which is calculated based on the data stored in the block. Every-time a new block is added to the chain, the new block contains the hash of the previous block as well. So modifying the contents of any previous block is practically impossible(and would destroy the whole chain). This makes Block-chain immutable.  Some Jargons involved-  Blockchain is immutable: It means once data has been written to a blockchain no one, not even a system administrator, can change it. The blockchain can be changed in append only fashion. In other words, transactions can only be added to the blockchain. Modifications and deletions are not allowed. Blockchain is decentralized : It means that it doesn’t rely on a central point of control. Everything is spread over. Thos makes the system fair and secure. Smart Contracts : These are a set of protocols or more like a computer program that are stored in a blockchain and are executed when certain conditions are met. Consensus protocols : These are a set of protocols that keep all the nodes in the network synchronised with each other. It prevents any single entity from controlling the whole blockchain system. The aim of consensus protocols is to guarantee a single chain is used and followed. Hashing : It is process in which the data stored in a block is converted into a fixed length output through a mathematical algorithm (eg SHA-256 is used by Bitcoin). The value of hash is unique for the same data and it is impossible to produce the same hash using different pieces of data. Wallet : A Bitcoin wallet is like a physical wallet. It contains your private key which can be used by you to store/spend Bitcoins on the Blockchain. Private key : It is similar to the passwords we use to initiate a transaction. Likewise, using these private keys we can spend Bitcoins from our wallets using a cryptographic signature.\n"
     ]
    }
   ],
   "source": [
    "for i in range(0,len(l)):\n",
    "    gg = str(l[i])\n",
    "    \n",
    "    l[i] = gg.replace('\\r\\n',' ')\n",
    "    print(l[i])"
   ]
  },
  {
   "cell_type": "code",
   "execution_count": 10,
   "metadata": {},
   "outputs": [],
   "source": [
    "stop_words=[\"i\", \"me\", \"my\", \"myself\", \"we\", \"our\", \"ours\", \"ourselves\", \"you\", \"your\", \"yours\", \"yourself\", \n",
    "            \"yourselves\", \"he\", \"him\", \"his\", \"himself\", \"she\", \"her\", \"hers\", \"herself\", \"it\", \"its\", \"itself\", \n",
    "            \"they\", \"them\", \"their\", \"theirs\", \"themselves\", \"what\", \"which\", \"who\", \"whom\", \"this\", \"that\", \"these\", \n",
    "            \"those\", \"am\", \"is\", \"are\", \"was\", \"were\", \"be\", \"been\", \"being\", \"have\", \"has\", \"had\", \"having\", \"do\", \n",
    "            \"does\", \"did\", \"doing\", \"a\", \"an\", \"the\", \"and\", \"but\", \"if\", \"or\", \"because\", \"as\", \"until\", \"while\", \n",
    "            \"of\", \"at\", \"by\", \"for\", \"with\", \"about\", \"against\", \"between\", \"into\", \"through\", \"during\", \"before\", \n",
    "            \"after\", \"above\", \"below\", \"to\", \"from\", \"up\", \"down\", \"in\", \"out\", \"on\", \"off\", \"over\", \"under\", \"again\", \n",
    "            \"further\", \"then\", \"once\", \"here\", \"there\", \"when\", \"where\", \"why\", \"how\", \"all\", \"any\", \"both\", \"each\", \n",
    "            \"few\", \"more\", \"most\", \"other\", \"some\", \"such\", \"no\", \"nor\", \"not\", \"only\", \"own\", \"same\", \"so\", \"than\",\n",
    "            \"too\", \"very\", \"s\", \"t\", \"can\", \"will\", \"just\", \"don\", \"should\", \"now\"]"
   ]
  },
  {
   "cell_type": "code",
   "execution_count": 11,
   "metadata": {},
   "outputs": [],
   "source": [
    "def get_aspects(x):\n",
    "    doc=nlp(x) ## Tokenize and extract grammatical components\n",
    "    doc=[i.text for i in doc if i.text not in stop_words and i.pos_==\"NOUN\"] ## Remove common words and retain only nouns\n",
    "    doc=list(map(lambda i: i.lower(),doc)) ## Normalize text to lower case\n",
    "    doc=pd.Series(doc)\n",
    "    doc=doc.value_counts().head().index.tolist() ## Get 5 most frequent nouns\n",
    "    return doc"
   ]
  },
  {
   "cell_type": "code",
   "execution_count": null,
   "metadata": {},
   "outputs": [],
   "source": []
  }
 ],
 "metadata": {
  "kernelspec": {
   "display_name": "Python 3",
   "language": "python",
   "name": "python3"
  },
  "language_info": {
   "codemirror_mode": {
    "name": "ipython",
    "version": 3
   },
   "file_extension": ".py",
   "mimetype": "text/x-python",
   "name": "python",
   "nbconvert_exporter": "python",
   "pygments_lexer": "ipython3",
   "version": "3.5.3"
  }
 },
 "nbformat": 4,
 "nbformat_minor": 2
}
